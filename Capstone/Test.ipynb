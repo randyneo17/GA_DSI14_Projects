{
 "cells": [
  {
   "cell_type": "code",
   "execution_count": null,
   "metadata": {},
   "outputs": [],
   "source": [
    "#pip install Quandl"
   ]
  },
  {
   "cell_type": "code",
   "execution_count": null,
   "metadata": {},
   "outputs": [],
   "source": [
    "https://www.quandl.com"
   ]
  },
  {
   "cell_type": "code",
   "execution_count": 1,
   "metadata": {},
   "outputs": [],
   "source": [
    "import quandl\n",
    "mydata = quandl.get(\"FRED/GDP\")"
   ]
  },
  {
   "cell_type": "code",
   "execution_count": 2,
   "metadata": {},
   "outputs": [
    {
     "data": {
      "text/html": [
       "<div>\n",
       "<style scoped>\n",
       "    .dataframe tbody tr th:only-of-type {\n",
       "        vertical-align: middle;\n",
       "    }\n",
       "\n",
       "    .dataframe tbody tr th {\n",
       "        vertical-align: top;\n",
       "    }\n",
       "\n",
       "    .dataframe thead th {\n",
       "        text-align: right;\n",
       "    }\n",
       "</style>\n",
       "<table border=\"1\" class=\"dataframe\">\n",
       "  <thead>\n",
       "    <tr style=\"text-align: right;\">\n",
       "      <th></th>\n",
       "      <th>Value</th>\n",
       "    </tr>\n",
       "    <tr>\n",
       "      <th>Date</th>\n",
       "      <th></th>\n",
       "    </tr>\n",
       "  </thead>\n",
       "  <tbody>\n",
       "    <tr>\n",
       "      <th>1947-01-01</th>\n",
       "      <td>243.164</td>\n",
       "    </tr>\n",
       "    <tr>\n",
       "      <th>1947-04-01</th>\n",
       "      <td>245.968</td>\n",
       "    </tr>\n",
       "    <tr>\n",
       "      <th>1947-07-01</th>\n",
       "      <td>249.585</td>\n",
       "    </tr>\n",
       "    <tr>\n",
       "      <th>1947-10-01</th>\n",
       "      <td>259.745</td>\n",
       "    </tr>\n",
       "    <tr>\n",
       "      <th>1948-01-01</th>\n",
       "      <td>265.742</td>\n",
       "    </tr>\n",
       "    <tr>\n",
       "      <th>...</th>\n",
       "      <td>...</td>\n",
       "    </tr>\n",
       "    <tr>\n",
       "      <th>2019-01-01</th>\n",
       "      <td>21098.827</td>\n",
       "    </tr>\n",
       "    <tr>\n",
       "      <th>2019-04-01</th>\n",
       "      <td>21340.267</td>\n",
       "    </tr>\n",
       "    <tr>\n",
       "      <th>2019-07-01</th>\n",
       "      <td>21542.540</td>\n",
       "    </tr>\n",
       "    <tr>\n",
       "      <th>2019-10-01</th>\n",
       "      <td>21729.124</td>\n",
       "    </tr>\n",
       "    <tr>\n",
       "      <th>2020-01-01</th>\n",
       "      <td>21537.940</td>\n",
       "    </tr>\n",
       "  </tbody>\n",
       "</table>\n",
       "<p>293 rows × 1 columns</p>\n",
       "</div>"
      ],
      "text/plain": [
       "                Value\n",
       "Date                 \n",
       "1947-01-01    243.164\n",
       "1947-04-01    245.968\n",
       "1947-07-01    249.585\n",
       "1947-10-01    259.745\n",
       "1948-01-01    265.742\n",
       "...               ...\n",
       "2019-01-01  21098.827\n",
       "2019-04-01  21340.267\n",
       "2019-07-01  21542.540\n",
       "2019-10-01  21729.124\n",
       "2020-01-01  21537.940\n",
       "\n",
       "[293 rows x 1 columns]"
      ]
     },
     "execution_count": 2,
     "metadata": {},
     "output_type": "execute_result"
    }
   ],
   "source": [
    "mydata"
   ]
  },
  {
   "cell_type": "code",
   "execution_count": null,
   "metadata": {},
   "outputs": [],
   "source": [
    "Carousell Abitraging-\n",
    "\n",
    "Look for the top products with highest value \n",
    "https://medium.com/@munkiat/automating-my-search-for-a-nintendo-switch-on-carousell-f94658f67b38"
   ]
  },
  {
   "cell_type": "code",
   "execution_count": null,
   "metadata": {},
   "outputs": [],
   "source": [
    "Customer churning"
   ]
  },
  {
   "cell_type": "code",
   "execution_count": null,
   "metadata": {},
   "outputs": [],
   "source": [
    "Can we predict the US GDP growth? Bull or Bear?\n",
    "\n",
    "Avoiding Bull/Bear traps\n",
    "\n",
    "Is theS&P going up or down in the next 3-6 months?"
   ]
  },
  {
   "cell_type": "markdown",
   "metadata": {},
   "source": [
    "### Getting a view in US \n",
    "\n",
    "#### Manufacturing & Services\n",
    "\n",
    "ISM Predicts US GDP with at least 6-12 mth time lag (Is this true?)\n",
    "- Leading Indicators US - ISM/PMI \n",
    "    - ISM > 50 and growing: Long (Strong) bias\n",
    "    - ISM > 50 and slowing: Long (Weak bias)/mkt Neutral\n",
    "    - ISM < 50 and slowing: Short(Strong) bias     \n",
    "    - ISM < 50 and growing: Short (weak) bias/mkt Neutral\n",
    "    - ISM > 50 (1st growth slowing): Short (weak) bias\n",
    "    - ISM < 50 (1st contraction slowing): Long (weak) bias\n",
    "    - http://www.ism.ws/ismreport/mfgrob.cfm\n",
    "\n",
    "- Leading Indicators US - Non Manufacturing Report on Business NMI (Service Index)\n",
    "    - pedict biz trends for a specific services sector    \n",
    "    - in line with ISM\n",
    "    - https://www.instituteforsupplymanagement.org/ismreport/nonmfgrob.cfm?SSO=1\n",
    "\n",
    "#### Consumers\n",
    "- Leading Indicators US -University of Michigan Consumer Sentiment Index/Consumer Expectations\n",
    "\n",
    "    - is consumer sentiment high or low? (NLP sentiment analyzer)\n",
    "        - \"above 80\" = 1\n",
    "        - \"> 70 and < 80\" = 0\n",
    "        - \"> 55 and <=70\" =-1\n",
    "    - http://www.sca.isr.umich.edu\n",
    "\n",
    "\n",
    "\n",
    "#### Is the demand for housing healthy? -> drives loans\n",
    "- Leading Indicators US - Building Permits \n",
    "    - Building Permit: receive planning permissions  (to be used)\n",
    "        - tells us if developers are bullish/bearish\n",
    "        - demand for housing from US consumer\n",
    "        - http://www.census.gov/construction/bps/uspermits.html\n",
    "    \n",
    "    \n",
    "#### Confirmation indicators  - do they confirm the leading indicators 6-12 mths\n",
    "    - Non Farm Payrolls and Unemployment Rate (Employment Situation Report:ESR) \n",
    "        - Initial and continuing claims of unemployment (weekly)\n",
    "        - Employment situtaion which determins the state of the economy (http://www.bls.gov/news.release/empsit.toc.htm)\n",
    "            - if this is up or down will show in NF Payrolls\n",
    "    - Durable Goods & Shipment Report\n",
    "    - Industrial Production\n",
    "    \n"
   ]
  },
  {
   "cell_type": "code",
   "execution_count": null,
   "metadata": {},
   "outputs": [],
   "source": [
    "S&P [Up:1, Down:0]"
   ]
  }
 ],
 "metadata": {
  "kernelspec": {
   "display_name": "Python 3",
   "language": "python",
   "name": "python3"
  },
  "language_info": {
   "codemirror_mode": {
    "name": "ipython",
    "version": 3
   },
   "file_extension": ".py",
   "mimetype": "text/x-python",
   "name": "python",
   "nbconvert_exporter": "python",
   "pygments_lexer": "ipython3",
   "version": "3.7.4"
  }
 },
 "nbformat": 4,
 "nbformat_minor": 2
}
